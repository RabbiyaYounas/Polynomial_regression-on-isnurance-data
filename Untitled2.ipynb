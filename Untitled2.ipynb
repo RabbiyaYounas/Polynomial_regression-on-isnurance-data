{
 "cells": [
  {
   "cell_type": "code",
   "execution_count": 1,
   "id": "92e5b8e4-969e-4102-bd38-67c60ec68b96",
   "metadata": {},
   "outputs": [],
   "source": [
    "import numpy as np \n",
    "import matplotlib.pyplot as plt \n",
    "import pandas as pd \n",
    "import seaborn as sns"
   ]
  },
  {
   "cell_type": "code",
   "execution_count": 3,
   "id": "4a5a549d-cb36-43d5-8cac-37bf85871ad4",
   "metadata": {},
   "outputs": [],
   "source": [
    "df = pd.read_csv('/Users/rabbiyayounas/Documents/DatasetsML/insurance.csv')"
   ]
  },
  {
   "cell_type": "code",
   "execution_count": 4,
   "id": "65601f0c-fb5e-4f21-bed1-0bc5cbc9f7bb",
   "metadata": {},
   "outputs": [
    {
     "data": {
      "text/html": [
       "<div>\n",
       "<style scoped>\n",
       "    .dataframe tbody tr th:only-of-type {\n",
       "        vertical-align: middle;\n",
       "    }\n",
       "\n",
       "    .dataframe tbody tr th {\n",
       "        vertical-align: top;\n",
       "    }\n",
       "\n",
       "    .dataframe thead th {\n",
       "        text-align: right;\n",
       "    }\n",
       "</style>\n",
       "<table border=\"1\" class=\"dataframe\">\n",
       "  <thead>\n",
       "    <tr style=\"text-align: right;\">\n",
       "      <th></th>\n",
       "      <th>age</th>\n",
       "      <th>sex</th>\n",
       "      <th>bmi</th>\n",
       "      <th>children</th>\n",
       "      <th>smoker</th>\n",
       "      <th>region</th>\n",
       "      <th>charges</th>\n",
       "    </tr>\n",
       "  </thead>\n",
       "  <tbody>\n",
       "    <tr>\n",
       "      <th>0</th>\n",
       "      <td>19</td>\n",
       "      <td>female</td>\n",
       "      <td>27.900</td>\n",
       "      <td>0</td>\n",
       "      <td>yes</td>\n",
       "      <td>southwest</td>\n",
       "      <td>16884.92400</td>\n",
       "    </tr>\n",
       "    <tr>\n",
       "      <th>1</th>\n",
       "      <td>18</td>\n",
       "      <td>male</td>\n",
       "      <td>33.770</td>\n",
       "      <td>1</td>\n",
       "      <td>no</td>\n",
       "      <td>southeast</td>\n",
       "      <td>1725.55230</td>\n",
       "    </tr>\n",
       "    <tr>\n",
       "      <th>2</th>\n",
       "      <td>28</td>\n",
       "      <td>male</td>\n",
       "      <td>33.000</td>\n",
       "      <td>3</td>\n",
       "      <td>no</td>\n",
       "      <td>southeast</td>\n",
       "      <td>4449.46200</td>\n",
       "    </tr>\n",
       "    <tr>\n",
       "      <th>3</th>\n",
       "      <td>33</td>\n",
       "      <td>male</td>\n",
       "      <td>22.705</td>\n",
       "      <td>0</td>\n",
       "      <td>no</td>\n",
       "      <td>northwest</td>\n",
       "      <td>21984.47061</td>\n",
       "    </tr>\n",
       "    <tr>\n",
       "      <th>4</th>\n",
       "      <td>32</td>\n",
       "      <td>male</td>\n",
       "      <td>28.880</td>\n",
       "      <td>0</td>\n",
       "      <td>no</td>\n",
       "      <td>northwest</td>\n",
       "      <td>3866.85520</td>\n",
       "    </tr>\n",
       "  </tbody>\n",
       "</table>\n",
       "</div>"
      ],
      "text/plain": [
       "   age     sex     bmi  children smoker     region      charges\n",
       "0   19  female  27.900         0    yes  southwest  16884.92400\n",
       "1   18    male  33.770         1     no  southeast   1725.55230\n",
       "2   28    male  33.000         3     no  southeast   4449.46200\n",
       "3   33    male  22.705         0     no  northwest  21984.47061\n",
       "4   32    male  28.880         0     no  northwest   3866.85520"
      ]
     },
     "execution_count": 4,
     "metadata": {},
     "output_type": "execute_result"
    }
   ],
   "source": [
    "df.head()"
   ]
  },
  {
   "cell_type": "code",
   "execution_count": 5,
   "id": "acf551b2-ac22-4761-923f-bd338e835d51",
   "metadata": {},
   "outputs": [],
   "source": [
    "#converrt into numeric category\n",
    "df['sex']=df['sex'].astype('category')\n",
    "df['sex']=df['sex'].cat.codes\n",
    "\n",
    "df['region']=df['region'].astype('category')\n",
    "df['region']=df['region'].cat.codes\n",
    "\n",
    "df['smoker']=df['smoker'].astype('category')\n",
    "df['smoker']=df['smoker'].cat.codes\n",
    "\n"
   ]
  },
  {
   "cell_type": "code",
   "execution_count": 6,
   "id": "18434e9f-2a4f-4ac2-9b0e-065057b209cd",
   "metadata": {},
   "outputs": [
    {
     "data": {
      "text/plain": [
       "age         0\n",
       "sex         0\n",
       "bmi         0\n",
       "children    0\n",
       "smoker      0\n",
       "region      0\n",
       "charges     0\n",
       "dtype: int64"
      ]
     },
     "execution_count": 6,
     "metadata": {},
     "output_type": "execute_result"
    }
   ],
   "source": [
    "df.isnull().sum()"
   ]
  },
  {
   "cell_type": "code",
   "execution_count": 7,
   "id": "54f6ef59-ecd4-47b4-bdb8-6a80f2217e02",
   "metadata": {},
   "outputs": [],
   "source": [
    "X = df.drop(columns= 'charges')"
   ]
  },
  {
   "cell_type": "code",
   "execution_count": 8,
   "id": "7ba8b2f9-22d3-466b-9fca-0a27f6d5d008",
   "metadata": {},
   "outputs": [],
   "source": [
    "y = df['charges']"
   ]
  },
  {
   "cell_type": "code",
   "execution_count": 9,
   "id": "33ccd4f6-212f-42a1-8f6a-805d8f3f6074",
   "metadata": {},
   "outputs": [],
   "source": [
    "# Splitting the dataset into the Training set and Test set\n",
    "from sklearn.model_selection import train_test_split\n",
    "X_train, X_test, y_train, y_test = train_test_split(X, y, test_size = 0.2, random_state = 0)"
   ]
  },
  {
   "cell_type": "code",
   "execution_count": 18,
   "id": "9ce9c5c1-26c2-405c-ba52-54d0024b04d0",
   "metadata": {},
   "outputs": [
    {
     "data": {
      "text/html": [
       "<style>#sk-container-id-3 {color: black;background-color: white;}#sk-container-id-3 pre{padding: 0;}#sk-container-id-3 div.sk-toggleable {background-color: white;}#sk-container-id-3 label.sk-toggleable__label {cursor: pointer;display: block;width: 100%;margin-bottom: 0;padding: 0.3em;box-sizing: border-box;text-align: center;}#sk-container-id-3 label.sk-toggleable__label-arrow:before {content: \"▸\";float: left;margin-right: 0.25em;color: #696969;}#sk-container-id-3 label.sk-toggleable__label-arrow:hover:before {color: black;}#sk-container-id-3 div.sk-estimator:hover label.sk-toggleable__label-arrow:before {color: black;}#sk-container-id-3 div.sk-toggleable__content {max-height: 0;max-width: 0;overflow: hidden;text-align: left;background-color: #f0f8ff;}#sk-container-id-3 div.sk-toggleable__content pre {margin: 0.2em;color: black;border-radius: 0.25em;background-color: #f0f8ff;}#sk-container-id-3 input.sk-toggleable__control:checked~div.sk-toggleable__content {max-height: 200px;max-width: 100%;overflow: auto;}#sk-container-id-3 input.sk-toggleable__control:checked~label.sk-toggleable__label-arrow:before {content: \"▾\";}#sk-container-id-3 div.sk-estimator input.sk-toggleable__control:checked~label.sk-toggleable__label {background-color: #d4ebff;}#sk-container-id-3 div.sk-label input.sk-toggleable__control:checked~label.sk-toggleable__label {background-color: #d4ebff;}#sk-container-id-3 input.sk-hidden--visually {border: 0;clip: rect(1px 1px 1px 1px);clip: rect(1px, 1px, 1px, 1px);height: 1px;margin: -1px;overflow: hidden;padding: 0;position: absolute;width: 1px;}#sk-container-id-3 div.sk-estimator {font-family: monospace;background-color: #f0f8ff;border: 1px dotted black;border-radius: 0.25em;box-sizing: border-box;margin-bottom: 0.5em;}#sk-container-id-3 div.sk-estimator:hover {background-color: #d4ebff;}#sk-container-id-3 div.sk-parallel-item::after {content: \"\";width: 100%;border-bottom: 1px solid gray;flex-grow: 1;}#sk-container-id-3 div.sk-label:hover label.sk-toggleable__label {background-color: #d4ebff;}#sk-container-id-3 div.sk-serial::before {content: \"\";position: absolute;border-left: 1px solid gray;box-sizing: border-box;top: 0;bottom: 0;left: 50%;z-index: 0;}#sk-container-id-3 div.sk-serial {display: flex;flex-direction: column;align-items: center;background-color: white;padding-right: 0.2em;padding-left: 0.2em;position: relative;}#sk-container-id-3 div.sk-item {position: relative;z-index: 1;}#sk-container-id-3 div.sk-parallel {display: flex;align-items: stretch;justify-content: center;background-color: white;position: relative;}#sk-container-id-3 div.sk-item::before, #sk-container-id-3 div.sk-parallel-item::before {content: \"\";position: absolute;border-left: 1px solid gray;box-sizing: border-box;top: 0;bottom: 0;left: 50%;z-index: -1;}#sk-container-id-3 div.sk-parallel-item {display: flex;flex-direction: column;z-index: 1;position: relative;background-color: white;}#sk-container-id-3 div.sk-parallel-item:first-child::after {align-self: flex-end;width: 50%;}#sk-container-id-3 div.sk-parallel-item:last-child::after {align-self: flex-start;width: 50%;}#sk-container-id-3 div.sk-parallel-item:only-child::after {width: 0;}#sk-container-id-3 div.sk-dashed-wrapped {border: 1px dashed gray;margin: 0 0.4em 0.5em 0.4em;box-sizing: border-box;padding-bottom: 0.4em;background-color: white;}#sk-container-id-3 div.sk-label label {font-family: monospace;font-weight: bold;display: inline-block;line-height: 1.2em;}#sk-container-id-3 div.sk-label-container {text-align: center;}#sk-container-id-3 div.sk-container {/* jupyter's `normalize.less` sets `[hidden] { display: none; }` but bootstrap.min.css set `[hidden] { display: none !important; }` so we also need the `!important` here to be able to override the default hidden behavior on the sphinx rendered scikit-learn.org. See: https://github.com/scikit-learn/scikit-learn/issues/21755 */display: inline-block !important;position: relative;}#sk-container-id-3 div.sk-text-repr-fallback {display: none;}</style><div id=\"sk-container-id-3\" class=\"sk-top-container\"><div class=\"sk-text-repr-fallback\"><pre>LinearRegression()</pre><b>In a Jupyter environment, please rerun this cell to show the HTML representation or trust the notebook. <br />On GitHub, the HTML representation is unable to render, please try loading this page with nbviewer.org.</b></div><div class=\"sk-container\" hidden><div class=\"sk-item\"><div class=\"sk-estimator sk-toggleable\"><input class=\"sk-toggleable__control sk-hidden--visually\" id=\"sk-estimator-id-3\" type=\"checkbox\" checked><label for=\"sk-estimator-id-3\" class=\"sk-toggleable__label sk-toggleable__label-arrow\">LinearRegression</label><div class=\"sk-toggleable__content\"><pre>LinearRegression()</pre></div></div></div></div></div>"
      ],
      "text/plain": [
       "LinearRegression()"
      ]
     },
     "execution_count": 18,
     "metadata": {},
     "output_type": "execute_result"
    }
   ],
   "source": [
    "from sklearn.linear_model import LinearRegression\n",
    "from sklearn.preprocessing import PolynomialFeatures\n",
    "\n",
    "\n",
    "# Create polynomial features (e.g., degree 2)\n",
    "poly = PolynomialFeatures(degree=4)\n",
    "X_poly_train = poly.fit_transform(X_train)\n",
    "X_poly_test = poly.transform(X_test)\n",
    "\n",
    "\n",
    "# Fit the polynomial regression model\n",
    "regressor = LinearRegression()\n",
    "regressor.fit(X_poly_train, y_train)"
   ]
  },
  {
   "cell_type": "code",
   "execution_count": 19,
   "id": "3ed9eea1-8e29-4aa8-bed4-0abd2027ba2b",
   "metadata": {},
   "outputs": [
    {
     "data": {
      "text/plain": [
       "array([ 9550.54432678,  9095.44501495, 48898.24755859, 12886.42586517,\n",
       "       12937.29391479,  7217.95516205,  2636.73748016, 15010.6268692 ,\n",
       "        9380.49784851,  3239.1046524 , 11018.21808624, 11033.40205383,\n",
       "        6998.59384918,  4246.42451477, 21845.99143982, 13655.36186981,\n",
       "       11279.75250244,  9232.70615387,  6387.21640015, 27539.59698486,\n",
       "       29963.10247803, 17485.79132843, 12825.51096344, 25952.99893188,\n",
       "        3701.1216507 , 10267.73368073, 11039.91802979,  9282.95970154,\n",
       "        3426.23226929, 10293.28884125,  9294.56043243, 46633.11333466,\n",
       "       15411.77629852, 13996.85353851, 18289.40274811,  4599.33384705,\n",
       "       10981.65590668, 41075.11550903, 36142.39086151,  1568.28710938,\n",
       "       10242.53430939,  4594.95565033, 22599.70655823, 51117.30751801,\n",
       "       37361.94206238,  5850.45526123, 13722.23431396,  7068.8434906 ,\n",
       "        7426.56352997, 15811.76629639,  3382.29218292,  4134.8771286 ,\n",
       "       30348.35912323, 44769.60813904, 12621.06716156,  4355.52177429,\n",
       "        3466.51274109, 11768.41743469, 10355.02452087, 11650.66791534,\n",
       "        1458.93307495, 52863.97283173, 21440.91519928,  9160.65170288,\n",
       "       22500.64250183, 10486.33541107, 23035.01828766, 38986.25311279,\n",
       "        9597.50585938,  7934.34442139, 17644.99449158, 12851.22200012,\n",
       "       15734.25946045, 13457.77465057, 11842.55969238, 13439.69780731,\n",
       "        7930.94125366,  9625.95730591, 23803.74938202, 52886.33977509,\n",
       "       13379.14046478, 62278.30673981,  4101.93397522,  7416.63393402,\n",
       "       39559.20992279, 20938.40518188,  9373.26524353,  3603.28112793,\n",
       "       11067.42073059, 41834.19800568, 15445.77548218, 14282.19890594,\n",
       "        2008.0602417 , 10512.53093719,  6445.48054504,  9761.18564606,\n",
       "       32709.98168945, 30207.492836  ,  7871.00153351, 12704.15826416,\n",
       "        3694.60542297,  8626.32772827,  6392.17103577, 37853.01696014,\n",
       "       29711.34111023,  3963.46311951,  9787.44322205,  3106.2310257 ,\n",
       "       15139.10832977, 55452.05535889, 13303.09690094,  4427.99337769,\n",
       "        9913.54795837, 30642.7056427 , 45980.05615997,  4484.0061264 ,\n",
       "        1971.72421265, 11118.0393219 , 12420.23020935,  9359.76862335,\n",
       "       42622.37785339, 12860.38176727, 16024.34483337, 13160.14147186,\n",
       "        7006.61092377,  9774.62337494, 28331.94678497, 23402.66664124,\n",
       "       61913.73712158,  4920.03795624, 10020.69606018,  7319.67048645,\n",
       "        6755.05711365, 15674.05445099, 38187.73497009, 34653.82170105,\n",
       "       22802.94762421, 13976.64514923, 22888.69548035,  4471.74637604,\n",
       "        1716.10442352, 13024.79693604, 12359.4111557 , 16290.6317749 ,\n",
       "        4320.65332031, 14037.18740845, 17081.7390213 ,  7006.64150238,\n",
       "        3633.29562378, 10800.50475311,  8759.64115906, 43500.16345978,\n",
       "       14583.60047913,  6002.69763947,  6978.99862671,  7034.96630096,\n",
       "        7049.05776978,  5797.87440491, 11824.60714722, 12838.20481873,\n",
       "        8621.94332886, 11027.26091766, 11572.7216568 ,  9653.69561768,\n",
       "        8029.51633453, 11002.53608704, 15913.36804962, 14948.69190216,\n",
       "        4476.26798248,  3286.17206573,  6106.14149475,  3239.70059967,\n",
       "        9897.88014221,  3360.44173431,  3335.82846069, -4603.28939819,\n",
       "         446.34082031,  6060.62236023, 46810.12767792,  4300.22781372,\n",
       "       14236.15418243,  6023.96085358, 14617.03243256,  3796.89990234,\n",
       "         646.6187439 , 25266.50687408,  4989.97850037,  4363.47525024,\n",
       "       12900.98426056, 13833.72817993, 34266.84761047,  6464.1097641 ,\n",
       "        5885.40898895, 24571.48706055,  4087.60861206,  2391.54974365,\n",
       "        6616.47991943, 15755.31616211,  5748.31636047,  4888.74238586,\n",
       "       14683.2199173 , 43169.50178528, 16480.579216  , 22128.28262329,\n",
       "        5416.67255402, 45143.22265625,  2102.20598602, 12542.21916962,\n",
       "        7515.71753693,  2959.95877838, 12640.81544495, 12674.1696701 ,\n",
       "        7772.18403625,  2087.16656494,  6011.68546295,  2261.48295593,\n",
       "        2743.06364441,  7473.45178986, 21590.78244781, 10847.86912537,\n",
       "        8959.32435608,  8283.54079437,  6668.0570755 ,  3953.37962341,\n",
       "       13088.70457458, 11062.29044342, 16269.49125671, 14726.77061462,\n",
       "       15736.61864471,  4311.04564667,  4185.63009644, 13719.86678314,\n",
       "       11554.16939545, 24345.7926178 ,  7314.43418121,  6974.39958191,\n",
       "       10930.38716888, 27384.60093689,  6900.04072571,  8669.04311371,\n",
       "        3666.35588074, 39231.66624451,  8839.82319641,  9832.98274994,\n",
       "        9070.30397797, 13918.84661102,  4267.02054596, 10659.62991333,\n",
       "        3420.02675629,  5754.32285309, 25915.88478088, 39619.71385193,\n",
       "        7765.87142944,  6947.48082733,  2993.61488342,  3263.71903992,\n",
       "        8363.66583252,  2268.74143982, -5543.54148102,  7444.45513153,\n",
       "       20221.20584869, 26438.33319855, 30214.63440704, 21249.14807892,\n",
       "        7586.78672791, 11152.53307343, 37760.73931122,  3388.66668701])"
      ]
     },
     "execution_count": 19,
     "metadata": {},
     "output_type": "execute_result"
    }
   ],
   "source": [
    "# Make predictions\n",
    "y_pred = regressor.predict(X_poly_test)\n",
    "y_pred"
   ]
  },
  {
   "cell_type": "code",
   "execution_count": 14,
   "id": "2419f3c5-533f-4dc4-bf38-4abbf87d6c5c",
   "metadata": {},
   "outputs": [
    {
     "name": "stdout",
     "output_type": "stream",
     "text": [
      "[ 1.80276668e+14  1.24092096e+02 -7.71476541e+02  8.20609513e+02\n",
      "  9.42391749e+02 -9.69533503e+03 -1.49271722e+02  1.94763761e+00\n",
      "  4.37372147e+01 -1.63692893e+00  6.84578393e+00 -5.65215100e+01\n",
      "  1.23370094e+01 -7.71476541e+02 -5.64275292e+01  2.39623549e+02\n",
      " -3.90933290e+02  5.55752317e+02 -1.04599116e+01  3.15879722e+01\n",
      "  1.41097588e+03 -5.74115408e+01 -5.99072705e+02  9.05769728e+02\n",
      "  9.74619293e+01 -9.69533503e+03  8.72996127e+02  1.63074335e+02]\n"
     ]
    }
   ],
   "source": [
    "# Calculating the Coefficients\n",
    "#The coefficients (regressor.coef_) indicate the impact of each feature on the predicted outcome (y).\n",
    "print(regressor.coef_)"
   ]
  },
  {
   "cell_type": "code",
   "execution_count": 15,
   "id": "7427f835-4872-4eac-921b-0ded0b84d4a8",
   "metadata": {},
   "outputs": [
    {
     "name": "stdout",
     "output_type": "stream",
     "text": [
      "-180276667627184.4\n"
     ]
    }
   ],
   "source": [
    "# Calculating the Intercept\n",
    "#The intercept (regressor.intercept_) in this context represents the base price of a house when its size (X) is zero.\n",
    "print(regressor.intercept_)"
   ]
  },
  {
   "cell_type": "code",
   "execution_count": 16,
   "id": "56c623d5-4e1d-46c5-be62-bb0a8b4d11cb",
   "metadata": {},
   "outputs": [
    {
     "data": {
      "text/plain": [
       "0.8705199570005381"
      ]
     },
     "execution_count": 16,
     "metadata": {},
     "output_type": "execute_result"
    }
   ],
   "source": [
    "# Calculating the R squared value\n",
    "from sklearn.metrics import r2_score\n",
    "r2_score(y_test, y_pred)"
   ]
  },
  {
   "cell_type": "code",
   "execution_count": 17,
   "id": "91d0c857-fbc0-443e-9a9d-fd57083a4ba5",
   "metadata": {},
   "outputs": [
    {
     "data": {
      "image/png": "[encoded data removed]",
      "text/plain": [
       "<Figure size 1000x600 with 1 Axes>"
      ]
     },
     "metadata": {},
     "output_type": "display_data"
    }
   ],
   "source": [
    "# Plot the actual vs predicted values\n",
    "plt.figure(figsize=(10, 6))\n",
    "plt.scatter(y_test, y_pred, color='blue')\n",
    "plt.plot([y_test.min(), y_test.max()], [y_test.min(), y_test.max()], color='red', linewidth=2)  # Line for perfect prediction\n",
    "plt.xlabel('Actual Values')\n",
    "plt.ylabel('Predicted Values')\n",
    "plt.title('Actual vs Predicted Values')\n",
    "plt.grid(True)\n",
    "plt.show()"
   ]
  },
  {
   "cell_type": "code",
   "execution_count": null,
   "id": "fd76df11-a567-4257-801e-a6e6ae86af26",
   "metadata": {},
   "outputs": [],
   "source": []
  }
 ],
 "metadata": {
  "kernelspec": {
   "display_name": "Python 3 (ipykernel)",
   "language": "python",
   "name": "python3"
  },
  "language_info": {
   "codemirror_mode": {
    "name": "ipython",
    "version": 3
   },
   "file_extension": ".py",
   "mimetype": "text/x-python",
   "name": "python",
   "nbconvert_exporter": "python",
   "pygments_lexer": "ipython3",
   "version": "3.11.7"
  }
 },
 "nbformat": 4,
 "nbformat_minor": 5
}
